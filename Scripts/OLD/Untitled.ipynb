{
 "cells": [
  {
   "cell_type": "code",
   "execution_count": 1,
   "metadata": {},
   "outputs": [],
   "source": [
    "import os \n"
   ]
  },
  {
   "cell_type": "code",
   "execution_count": 7,
   "metadata": {},
   "outputs": [
    {
     "name": "stdout",
     "output_type": "stream",
     "text": [
      "C:\\Users\\cshuler\\Desktop\\Github_repo_copies\\RISA_yr6\\.git\\objects\\pack\\pack-d233cc2931dc419eae2d4e62eba296ee16acc667.pack: 132744163 bytes\n"
     ]
    }
   ],
   "source": [
    "def get_file_sizes(directory):\n",
    "    for foldername, subfolders, filenames in os.walk(directory):\n",
    "        for filename in filenames:\n",
    "            file_path = os.path.join(foldername, filename)\n",
    "            file_size = os.path.getsize(file_path)\n",
    "            \n",
    "            if file_size > 100000000:\n",
    "                print(f\"{file_path}: {file_size} bytes\")\n",
    "\n",
    "if __name__ == \"__main__\":\n",
    "    # Replace 'C:\\\\path\\\\to\\\\your\\\\directory' with the path to the directory you want to analyze\n",
    "    target_directory = r'C:\\Users\\cshuler\\Desktop\\Github_repo_copies\\RISA_yr6'\n",
    "    get_file_sizes(target_directory)"
   ]
  },
  {
   "cell_type": "code",
   "execution_count": null,
   "metadata": {},
   "outputs": [],
   "source": []
  },
  {
   "cell_type": "code",
   "execution_count": null,
   "metadata": {},
   "outputs": [],
   "source": []
  }
 ],
 "metadata": {
  "kernelspec": {
   "display_name": "Python 3",
   "language": "python",
   "name": "python3"
  },
  "language_info": {
   "codemirror_mode": {
    "name": "ipython",
    "version": 3
   },
   "file_extension": ".py",
   "mimetype": "text/x-python",
   "name": "python",
   "nbconvert_exporter": "python",
   "pygments_lexer": "ipython3",
   "version": "3.8.2"
  }
 },
 "nbformat": 4,
 "nbformat_minor": 4
}
